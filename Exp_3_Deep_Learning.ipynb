{
  "nbformat": 4,
  "nbformat_minor": 0,
  "metadata": {
    "colab": {
      "provenance": [],
      "authorship_tag": "ABX9TyPsK1WDls0j933r23bMsvYR",
      "include_colab_link": true
    },
    "kernelspec": {
      "name": "python3",
      "display_name": "Python 3"
    },
    "language_info": {
      "name": "python"
    }
  },
  "cells": [
    {
      "cell_type": "markdown",
      "metadata": {
        "id": "view-in-github",
        "colab_type": "text"
      },
      "source": [
        "<a href=\"https://colab.research.google.com/github/Arunsharma2004/Portfolio/blob/main/Exp_3_Deep_Learning.ipynb\" target=\"_parent\"><img src=\"https://colab.research.google.com/assets/colab-badge.svg\" alt=\"Open In Colab\"/></a>"
      ]
    },
    {
      "cell_type": "code",
      "source": [
        "import tensorflow as tf\n",
        "from tensorflow.keras import layers, models\n",
        "from tensorflow.keras.utils import to_categorical\n"
      ],
      "metadata": {
        "id": "cxdOTGeQNz0x"
      },
      "execution_count": 3,
      "outputs": []
    },
    {
      "cell_type": "code",
      "source": [
        "# Load and preprocess MNIST dataset\n",
        "(X_train, y_train), (X_test, y_test) = tf.keras.datasets.mnist.load_data()\n",
        "X_train, X_test = X_train / 255.0, X_test / 255.0\n",
        "X_train, X_test = X_train.reshape((-1, 28, 28, 1)), X_test.reshape((-1, 28, 28, 1))\n"
      ],
      "metadata": {
        "id": "urQo48-xN7ks"
      },
      "execution_count": 4,
      "outputs": []
    },
    {
      "cell_type": "code",
      "source": [
        "# Convert labels to one-hot encoding for classification\n",
        "y_train, y_test = to_categorical(y_train, 10), to_categorical(y_test, 10)\n"
      ],
      "metadata": {
        "id": "ClID3MF-OBFi"
      },
      "execution_count": 5,
      "outputs": []
    },
    {
      "cell_type": "code",
      "source": [
        "# Define Autoencoder\n",
        "input_layer = layers.Input(shape=(28, 28, 1))\n"
      ],
      "metadata": {
        "id": "EX_IUJDvODku"
      },
      "execution_count": 6,
      "outputs": []
    },
    {
      "cell_type": "code",
      "source": [
        "# Encoder\n",
        "x = layers.Conv2D(32, (3, 3), activation='relu', padding='same')(input_layer)\n",
        "x = layers.MaxPooling2D((2, 2), padding='same')(x)\n",
        "encoded = layers.Conv2D(64, (3, 3), activation='relu', padding='same')(x)\n"
      ],
      "metadata": {
        "id": "m2fEN73oOFtm"
      },
      "execution_count": 7,
      "outputs": []
    },
    {
      "cell_type": "code",
      "source": [
        "# Decoder\n",
        "x = layers.Conv2DTranspose(64, (3, 3), activation='relu', padding='same')(encoded)\n",
        "x = layers.UpSampling2D((2, 2))(x)\n",
        "decoded = layers.Conv2DTranspose(1, (3, 3), activation='sigmoid', padding='same')(x)"
      ],
      "metadata": {
        "id": "xgW53cqnOIdG"
      },
      "execution_count": 8,
      "outputs": []
    },
    {
      "cell_type": "code",
      "source": [
        "autoencoder = models.Model(input_layer, decoded)\n",
        "autoencoder.compile(optimizer='adam', loss='binary_crossentropy')\n"
      ],
      "metadata": {
        "id": "bK32rq7ZOLd9"
      },
      "execution_count": 9,
      "outputs": []
    },
    {
      "cell_type": "code",
      "source": [
        "# Pretrain Autoencoder (Unsupervised)\n",
        "autoencoder.fit(X_train, X_train, epochs=10, batch_size=256, shuffle=True)\n"
      ],
      "metadata": {
        "colab": {
          "base_uri": "https://localhost:8080/"
        },
        "id": "N8d--eCLOQcv",
        "outputId": "9e7dad33-dc34-47b1-c6ff-35083abc3d7a"
      },
      "execution_count": null,
      "outputs": [
        {
          "output_type": "stream",
          "name": "stdout",
          "text": [
            "Epoch 1/10\n",
            "\u001b[1m131/235\u001b[0m \u001b[32m━━━━━━━━━━━\u001b[0m\u001b[37m━━━━━━━━━\u001b[0m \u001b[1m1:14\u001b[0m 714ms/step - loss: 0.2704"
          ]
        }
      ]
    },
    {
      "cell_type": "code",
      "source": [
        "# Extract Encoder for Greedy Pretraining\n",
        "encoder = models.Model(input_layer, encoded)\n"
      ],
      "metadata": {
        "id": "C4INsPzJOTTg"
      },
      "execution_count": null,
      "outputs": []
    },
    {
      "cell_type": "code",
      "source": [
        "# Fine-Tuning (Supervised Learning)\n",
        "encoded_input = layers.Input(shape=(14, 14, 64))\n",
        "x = layers.Flatten()(encoded_input)\n",
        "x = layers.Dense(128, activation='relu')(x)\n",
        "x = layers.Dense(10, activation='softmax')(x)\n"
      ],
      "metadata": {
        "id": "G79mjRNqOZsg"
      },
      "execution_count": null,
      "outputs": []
    },
    {
      "cell_type": "code",
      "source": [
        "\n",
        "classifier = models.Model(encoded_input, x)\n",
        "classifier.compile(optimizer='adam', loss='categorical_crossentropy', metrics=['accuracy'])\n",
        "\n",
        "# Train the Classifier with Encoded Features\n",
        "classifier.fit(encoder.predict(X_train), y_train, epochs=5, batch_size=256, validation_data=(encoder.predict(X_test), y_test))"
      ],
      "metadata": {
        "id": "5qU9i4meOdBj"
      },
      "execution_count": null,
      "outputs": []
    },
    {
      "cell_type": "code",
      "source": [
        "import numpy as np\n",
        "\n",
        "# Select some test images\n",
        "n = 5\n",
        "test_imgs = X_test[:n]\n",
        "encoded_test_imgs = encoder.predict(test_imgs)\n",
        "\n",
        "# Get classifier predictions\n",
        "predictions = np.argmax(classifier.predict(encoded_test_imgs), axis=1)\n",
        "\n",
        "# Plot results\n",
        "plt.figure(figsize=(10, 2))\n",
        "for i in range(n):\n",
        "    plt.subplot(1, n, i + 1)\n",
        "    plt.imshow(test_imgs[i].reshape(28, 28), cmap='gray')\n",
        "    plt.axis('off')\n",
        "    plt.title(f\"Pred: {predictions[i]}\")\n",
        "plt.show()"
      ],
      "metadata": {
        "id": "d2QIMaPEOf2O"
      },
      "execution_count": null,
      "outputs": []
    },
    {
      "cell_type": "code",
      "source": [
        "\\loss, accuracy = classifier.evaluate(encoder.predict(X_test), y_test)\n",
        "print(f\"Test Accuracy: {accuracy * 100:.2f}%\")"
      ],
      "metadata": {
        "id": "A4vQaaKHOi5t"
      },
      "execution_count": null,
      "outputs": []
    }
  ]
}